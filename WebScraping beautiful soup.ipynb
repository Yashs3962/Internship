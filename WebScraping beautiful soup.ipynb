{
 "cells": [
  {
   "cell_type": "markdown",
   "id": "1bda1ebd",
   "metadata": {},
   "source": [
    "Answer-1"
   ]
  },
  {
   "cell_type": "code",
   "execution_count": 1,
   "id": "b64169c1",
   "metadata": {},
   "outputs": [
    {
     "name": "stdout",
     "output_type": "stream",
     "text": [
      "Requirement already satisfied: bs4 in c:\\users\\vishs\\anaconda3\\lib\\site-packages (0.0.2)\n",
      "Requirement already satisfied: beautifulsoup4 in c:\\users\\vishs\\anaconda3\\lib\\site-packages (from bs4) (4.12.2)\n",
      "Requirement already satisfied: soupsieve>1.2 in c:\\users\\vishs\\anaconda3\\lib\\site-packages (from beautifulsoup4->bs4) (2.4)\n",
      "Requirement already satisfied: requests in c:\\users\\vishs\\anaconda3\\lib\\site-packages (2.31.0)\n",
      "Requirement already satisfied: charset-normalizer<4,>=2 in c:\\users\\vishs\\anaconda3\\lib\\site-packages (from requests) (2.0.4)\n",
      "Requirement already satisfied: idna<4,>=2.5 in c:\\users\\vishs\\anaconda3\\lib\\site-packages (from requests) (3.4)\n",
      "Requirement already satisfied: urllib3<3,>=1.21.1 in c:\\users\\vishs\\anaconda3\\lib\\site-packages (from requests) (1.26.16)\n",
      "Requirement already satisfied: certifi>=2017.4.17 in c:\\users\\vishs\\anaconda3\\lib\\site-packages (from requests) (2023.7.22)\n"
     ]
    }
   ],
   "source": [
    "!pip install bs4\n",
    "!pip install requests"
   ]
  },
  {
   "cell_type": "code",
   "execution_count": 7,
   "id": "4677583d",
   "metadata": {},
   "outputs": [],
   "source": [
    "import requests\n",
    "from bs4 import BeautifulSoup\n",
    "import pandas as pd\n",
    "\n"
   ]
  },
  {
   "cell_type": "code",
   "execution_count": 8,
   "id": "c87ba657",
   "metadata": {},
   "outputs": [],
   "source": [
    "url = 'https://www.imdb.com/list/ls056092300/'\n",
    "response = requests.get(url)"
   ]
  },
  {
   "cell_type": "code",
   "execution_count": 9,
   "id": "25e747af",
   "metadata": {},
   "outputs": [],
   "source": [
    "soup = BeautifulSoup(response.content, 'html.parser')"
   ]
  },
  {
   "cell_type": "code",
   "execution_count": null,
   "id": "13e5d8a5",
   "metadata": {},
   "outputs": [],
   "source": [
    "movies = soup.find_all('div', class_='lister-item mode-detail')"
   ]
  },
  {
   "cell_type": "code",
   "execution_count": null,
   "id": "1e9aa4af",
   "metadata": {},
   "outputs": [],
   "source": [
    "names = []\n",
    "ratings = []\n",
    "years = []"
   ]
  },
  {
   "cell_type": "code",
   "execution_count": null,
   "id": "eadf6fdf",
   "metadata": {},
   "outputs": [],
   "source": [
    "for movie in movies:\n",
    "    name = movie.find('h3').find('a').text.strip()  \n",
    "    rating = movie.find('span', class_='ipl-rating-star__rating').text.strip()  \n",
    "    year = movie.find('span', class_='lister-item-year').text.strip('()')  \n"
   ]
  },
  {
   "cell_type": "code",
   "execution_count": null,
   "id": "c0567be8",
   "metadata": {},
   "outputs": [],
   "source": [
    " names.append(name)\n",
    "    ratings.append(rating)\n",
    "    years.append(year)"
   ]
  },
  {
   "cell_type": "code",
   "execution_count": null,
   "id": "46b14a4d",
   "metadata": {},
   "outputs": [],
   "source": [
    "df = pd.DataFrame({'Name': names, 'Rating': ratings, 'Year of Release': years})\n"
   ]
  },
  {
   "cell_type": "code",
   "execution_count": 10,
   "id": "a199b28b",
   "metadata": {},
   "outputs": [
    {
     "name": "stdout",
     "output_type": "stream",
     "text": [
      "                                 Name Rating Year of Release\n",
      "0                     Ship of Theseus      8            2012\n",
      "1                              Iruvar    8.4            1997\n",
      "2                     Kaagaz Ke Phool    7.8            1959\n",
      "3   Lagaan: Once Upon a Time in India    8.1            2001\n",
      "4                     Pather Panchali    8.2            1955\n",
      "..                                ...    ...             ...\n",
      "95                        Apur Sansar    8.4            1959\n",
      "96                        Kanchivaram    8.2            2008\n",
      "97                    Monsoon Wedding    7.3            2001\n",
      "98                              Black    8.1            2005\n",
      "99                            Deewaar      8            1975\n",
      "\n",
      "[100 rows x 3 columns]\n"
     ]
    }
   ],
   "source": [
    "print(df)"
   ]
  }
 ],
 "metadata": {
  "kernelspec": {
   "display_name": "Python 3 (ipykernel)",
   "language": "python",
   "name": "python3"
  },
  "language_info": {
   "codemirror_mode": {
    "name": "ipython",
    "version": 3
   },
   "file_extension": ".py",
   "mimetype": "text/x-python",
   "name": "python",
   "nbconvert_exporter": "python",
   "pygments_lexer": "ipython3",
   "version": "3.11.4"
  }
 },
 "nbformat": 4,
 "nbformat_minor": 5
}
